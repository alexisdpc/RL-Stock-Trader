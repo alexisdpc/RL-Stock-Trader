{
 "cells": [
  {
   "cell_type": "markdown",
   "metadata": {},
   "source": [
    "## Comparison between different portfolios\n",
    "\n",
    "In this Notebook we compare the returns from three different portfolios:\n",
    "\n",
    "1) Passive portfolio with equally weighted stocks\n",
    "\n",
    "2) An agent that always performs random actions (epsilon=1)\n",
    "\n",
    "3) The Reinforcement Learning agent"
   ]
  },
  {
   "cell_type": "code",
   "execution_count": 11,
   "metadata": {},
   "outputs": [],
   "source": [
    "import matplotlib.pylab as plt\n",
    "import numpy as np\n",
    "import pandas as pd\n",
    "\n",
    "from matplotlib.backends.backend_pdf import PdfPages\n",
    "from matplotlib import pyplot\n",
    "\n",
    "from matplotlib import rc\n",
    "rc('font',**{'family':'sans-serif','sans-serif':['Helvetica']})\n",
    "rc('text', usetex=True)"
   ]
  },
  {
   "cell_type": "code",
   "execution_count": 12,
   "metadata": {},
   "outputs": [],
   "source": [
    "# We import the results\n",
    "rewards_train = np.load(f'linear_rl_trader_rewards/train.npy')\n",
    "rewards_test = np.load(f'linear_rl_trader_rewards/test.npy')\n",
    "rewards_rand_test = np.load(f'linear_rl_trader_rewards/random_actions.npy')\n",
    "initial_investment = 20000\n",
    "\n",
    "percentage_train = 100*(rewards_train-initial_investment)/initial_investment\n",
    "percentage_test = 100*(rewards_test-initial_investment)/initial_investment\n",
    "percentage_rand_test = 100*(rewards_rand_test-initial_investment)/initial_investment\n",
    "\n",
    "# Import data with the stock prices\n",
    "df = pd.read_csv('data/aapl_msi_sbux.csv')\n",
    "stock_prices = df.values "
   ]
  },
  {
   "cell_type": "markdown",
   "metadata": {},
   "source": [
    "**Equally weighted stocks**\n",
    "\n",
    "We build a portfolio in which we hold all the stocks with an equal weight.\\\n",
    "The first half of the data is compared with the model in 'train' mode.\\\n",
    "The second half of the data is compared with the model in 'test' mode.\n"
   ]
  },
  {
   "cell_type": "code",
   "execution_count": 13,
   "metadata": {},
   "outputs": [
    {
     "name": "stdout",
     "output_type": "stream",
     "text": [
      "TRAIN Portfolio Returns:\n",
      "\n",
      "Portfolio with equally-weighted stocks: 60.73 %\n",
      "\n",
      "Portfolio with Reinforcement Learning agent: 72.97 %\n",
      "\n"
     ]
    }
   ],
   "source": [
    "n_timesteps, n_stocks = df.shape \n",
    "n_train = n_timesteps//2\n",
    "\n",
    "# Equally weighted portfolio (train set):\n",
    "tf = n_timesteps-1\n",
    "return_percent = 0\n",
    "for i in range(n_stocks):\n",
    "    return_percent += (stock_prices[n_train,i]-stock_prices[0,i])/stock_prices[0,i]\n",
    "return_mean = return_percent/n_stocks  \n",
    "\n",
    "# Compare with TRAIN\n",
    "print('TRAIN Portfolio Returns:\\n\\nPortfolio with equally-weighted stocks:', np.round(return_mean*100,2),'%') \n",
    "print(f'\\nPortfolio with Reinforcement Learning agent: {percentage_train.mean():.2f} %\\n')"
   ]
  },
  {
   "cell_type": "code",
   "execution_count": 14,
   "metadata": {},
   "outputs": [
    {
     "name": "stdout",
     "output_type": "stream",
     "text": [
      "TEST Portfolio Returns:\n",
      "\n",
      "Portfolio with equally-weighted stocks: 30.14 %\n",
      "\n",
      "Portfolio with random actions (epsilon=1): 23.57 %\n",
      "\n",
      "Portfolio with Reinforcement Learning agent: 188.53 %\n",
      "\n"
     ]
    }
   ],
   "source": [
    "# Equally weighted portfolio (test set):\n",
    "return_percent_test = 0\n",
    "for i in range(n_stocks):\n",
    "    return_percent_test += (stock_prices[tf,i]-stock_prices[n_train,i])/stock_prices[n_train,i]\n",
    "return_mean_test = return_percent_test/n_stocks  \n",
    "\n",
    "# Compare with TEST\n",
    "print('TEST Portfolio Returns:\\n\\nPortfolio with equally-weighted stocks:', np.round(return_mean_test*100,2),'%')  \n",
    "print(f'\\nPortfolio with random actions (epsilon=1): {percentage_rand_test.mean():.2f} %')\n",
    "print(f'\\nPortfolio with Reinforcement Learning agent: {percentage_test.mean():.2f} %\\n')\n"
   ]
  }
 ],
 "metadata": {
  "kernelspec": {
   "display_name": "Python 3",
   "language": "python",
   "name": "python3"
  },
  "language_info": {
   "codemirror_mode": {
    "name": "ipython",
    "version": 3
   },
   "file_extension": ".py",
   "mimetype": "text/x-python",
   "name": "python",
   "nbconvert_exporter": "python",
   "pygments_lexer": "ipython3",
   "version": "3.10.6"
  },
  "orig_nbformat": 4
 },
 "nbformat": 4,
 "nbformat_minor": 2
}
