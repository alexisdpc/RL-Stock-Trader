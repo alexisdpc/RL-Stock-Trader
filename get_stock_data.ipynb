{
 "cells": [
  {
   "cell_type": "markdown",
   "metadata": {},
   "source": [
    "## Getting stock data\n",
    "\n",
    "We download the stock data from Yahoo Finance.\n",
    "\n",
    "We get 10-years of data for 6 stock in different sectors. "
   ]
  },
  {
   "cell_type": "code",
   "execution_count": 1,
   "metadata": {},
   "outputs": [
    {
     "name": "stdout",
     "output_type": "stream",
     "text": [
      "[*********************100%***********************]  6 of 6 completed\n"
     ]
    }
   ],
   "source": [
    "import yfinance as yf\n",
    "from pandas_datareader import data as pdr\n",
    "\n",
    "yf.pdr_override() \n",
    "\n",
    "start_date = '2010-01-01'\n",
    "end_date = '2019-12-31'\n",
    "stock_data = pdr.get_data_yahoo(['GOOG','MSFT','CVX','JPM','WMT','FORD'], start_date, end_date)\n",
    "close_price = stock_data['Close']\n",
    "highs = stock_data['High']\n"
   ]
  },
  {
   "cell_type": "markdown",
   "metadata": {},
   "source": [
    "Export the data to a csv file. \n",
    "\n",
    "We remove the date since this is not an important feature."
   ]
  },
  {
   "cell_type": "code",
   "execution_count": 2,
   "metadata": {},
   "outputs": [],
   "source": [
    "close_price.to_csv('closing_prices.csv', index=False)"
   ]
  }
 ],
 "metadata": {
  "kernelspec": {
   "display_name": "Python 3",
   "language": "python",
   "name": "python3"
  },
  "language_info": {
   "codemirror_mode": {
    "name": "ipython",
    "version": 3
   },
   "file_extension": ".py",
   "mimetype": "text/x-python",
   "name": "python",
   "nbconvert_exporter": "python",
   "pygments_lexer": "ipython3",
   "version": "3.10.12"
  },
  "orig_nbformat": 4
 },
 "nbformat": 4,
 "nbformat_minor": 2
}
